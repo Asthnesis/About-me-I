{
  "nbformat": 4,
  "nbformat_minor": 0,
  "metadata": {
    "colab": {
      "provenance": [],
      "include_colab_link": true
    },
    "kernelspec": {
      "name": "python3",
      "display_name": "Python 3"
    },
    "language_info": {
      "name": "python"
    }
  },
  "cells": [
    {
      "cell_type": "markdown",
      "metadata": {
        "id": "view-in-github",
        "colab_type": "text"
      },
      "source": [
        "<a href=\"https://colab.research.google.com/github/Asthnesis/About-me-I/blob/main/Assignment_2.ipynb\" target=\"_parent\"><img src=\"https://colab.research.google.com/assets/colab-badge.svg\" alt=\"Open In Colab\"/></a>"
      ]
    },
    {
      "cell_type": "code",
      "execution_count": null,
      "metadata": {
        "id": "epRDiLPOvLk0"
      },
      "outputs": [],
      "source": [
        "import pandas as pd\n",
        "import matplotlib.pyplot as plt\n",
        "\n",
        "\n",
        "mydata = pd.read_csv('/content/assignment.csv')\n",
        "# mydata = mydata.replace(-1,400)\n",
        "mydata.head(20)"
      ]
    },
    {
      "cell_type": "code",
      "source": [
        "duplicates_casualties = mydata[mydata['Number_of_Casualties'].duplicated()]\n",
        "duplicates_engine = mydata[mydata['Engine_Capacity_(CC)'].duplicated()]\n",
        "print(duplicates_casualties)\n",
        "print(duplicates_engine)"
      ],
      "metadata": {
        "id": "QF_2W_NBQIkM"
      },
      "execution_count": null,
      "outputs": []
    },
    {
      "cell_type": "code",
      "source": [
        "# unique_values = mydata.value_counts()\n",
        "# print(unique_values)\n",
        "missing = mydata[(mydata['Number_of_Casualties'] == -1) | (mydata['Engine_Capacity_(CC)'] == -1)]\n",
        "print(missing)"
      ],
      "metadata": {
        "id": "02kAgeIcSpLs"
      },
      "execution_count": null,
      "outputs": []
    },
    {
      "cell_type": "code",
      "source": [
        "null = mydata.isnull().sum()\n",
        "print(null)"
      ],
      "metadata": {
        "id": "ejZJ4oYVRHzm"
      },
      "execution_count": null,
      "outputs": []
    },
    {
      "cell_type": "code",
      "source": [
        "summary = mydata.describe()\n",
        "print(mydata.info())\n",
        "print(summary)"
      ],
      "metadata": {
        "id": "_8kUfzujRbD2"
      },
      "execution_count": null,
      "outputs": []
    },
    {
      "cell_type": "code",
      "source": [
        "variables = mydata.loc[:,['Number_of_Casualties','Engine_Capacity_(CC)']]\n",
        "mydata.plot(x='Engine_Capacity_(CC)',y='Number_of_Casualties',style='^')\n",
        "plt.xlabel('Engine capacity')\n",
        "plt.ylabel('Number_of_Casualties')\n",
        "plt.show()"
      ],
      "metadata": {
        "id": "htfulFBFTI-Q"
      },
      "execution_count": null,
      "outputs": []
    },
    {
      "cell_type": "code",
      "source": [
        "\n"
      ],
      "metadata": {
        "id": "ZbKGTMwnYfvI"
      },
      "execution_count": null,
      "outputs": []
    },
    {
      "cell_type": "code",
      "source": [
        "x = pd.DataFrame(mydata['Number_of_Casualties'])\n",
        "y = pd.DataFrame(mydata['Engine_Capacity_(CC)'])\n",
        "\n",
        "\n",
        "\n"
      ],
      "metadata": {
        "id": "x4Q_ITPd3ZU6"
      },
      "execution_count": null,
      "outputs": []
    },
    {
      "cell_type": "code",
      "source": [],
      "metadata": {
        "id": "elPZrFciTLPM"
      },
      "execution_count": null,
      "outputs": []
    },
    {
      "cell_type": "code",
      "source": [],
      "metadata": {
        "id": "ka_tLbagUQ6f"
      },
      "execution_count": null,
      "outputs": []
    },
    {
      "cell_type": "code",
      "source": [
        "\n"
      ],
      "metadata": {
        "id": "uw3KGelhWVfA"
      },
      "execution_count": null,
      "outputs": []
    }
  ]
}